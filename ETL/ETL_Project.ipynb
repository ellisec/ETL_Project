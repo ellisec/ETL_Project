{
 "cells": [
  {
   "cell_type": "code",
   "execution_count": 1,
   "metadata": {},
   "outputs": [],
   "source": [
    "# import dependencies\n",
    "import pandas as pd\n",
    "from sqlalchemy import create_engine\n",
    "from config import password\n",
    "import re"
   ]
  },
  {
   "cell_type": "markdown",
   "metadata": {},
   "source": [
    "# Convert CSV to Pandas Dataframe"
   ]
  },
  {
   "cell_type": "code",
   "execution_count": 2,
   "metadata": {},
   "outputs": [],
   "source": [
    "csv_Apple = \"AppleStore.csv\"\n",
    "csv_GPlay = \"googleplaystore.csv\"\n",
    "appleDF = pd.read_csv(csv_Apple)\n",
    "googleDF = pd.read_csv(csv_GPlay)"
   ]
  },
  {
   "cell_type": "code",
   "execution_count": 3,
   "metadata": {
    "collapsed": true
   },
   "outputs": [
    {
     "data": {
      "text/html": [
       "<div>\n",
       "<style scoped>\n",
       "    .dataframe tbody tr th:only-of-type {\n",
       "        vertical-align: middle;\n",
       "    }\n",
       "\n",
       "    .dataframe tbody tr th {\n",
       "        vertical-align: top;\n",
       "    }\n",
       "\n",
       "    .dataframe thead th {\n",
       "        text-align: right;\n",
       "    }\n",
       "</style>\n",
       "<table border=\"1\" class=\"dataframe\">\n",
       "  <thead>\n",
       "    <tr style=\"text-align: right;\">\n",
       "      <th></th>\n",
       "      <th>App</th>\n",
       "      <th>Category</th>\n",
       "      <th>Rating</th>\n",
       "      <th>Reviews</th>\n",
       "      <th>Size</th>\n",
       "      <th>Installs</th>\n",
       "      <th>Type</th>\n",
       "      <th>Price</th>\n",
       "      <th>Content Rating</th>\n",
       "      <th>Genres</th>\n",
       "      <th>Last Updated</th>\n",
       "      <th>Current Ver</th>\n",
       "      <th>Android Ver</th>\n",
       "    </tr>\n",
       "  </thead>\n",
       "  <tbody>\n",
       "    <tr>\n",
       "      <th>0</th>\n",
       "      <td>Photo Editor &amp; Candy Camera &amp; Grid &amp; ScrapBook</td>\n",
       "      <td>ART_AND_DESIGN</td>\n",
       "      <td>4.1</td>\n",
       "      <td>159</td>\n",
       "      <td>19M</td>\n",
       "      <td>10,000+</td>\n",
       "      <td>Free</td>\n",
       "      <td>0</td>\n",
       "      <td>Everyone</td>\n",
       "      <td>Art &amp; Design</td>\n",
       "      <td>January 7, 2018</td>\n",
       "      <td>1.0.0</td>\n",
       "      <td>4.0.3 and up</td>\n",
       "    </tr>\n",
       "    <tr>\n",
       "      <th>1</th>\n",
       "      <td>Coloring book moana</td>\n",
       "      <td>ART_AND_DESIGN</td>\n",
       "      <td>3.9</td>\n",
       "      <td>967</td>\n",
       "      <td>14M</td>\n",
       "      <td>500,000+</td>\n",
       "      <td>Free</td>\n",
       "      <td>0</td>\n",
       "      <td>Everyone</td>\n",
       "      <td>Art &amp; Design</td>\n",
       "      <td>January 15, 2018</td>\n",
       "      <td>2.0.0</td>\n",
       "      <td>4.0.3 and up</td>\n",
       "    </tr>\n",
       "    <tr>\n",
       "      <th>2</th>\n",
       "      <td>U Launcher Lite – FREE Live Cool Themes, Hide ...</td>\n",
       "      <td>ART_AND_DESIGN</td>\n",
       "      <td>4.7</td>\n",
       "      <td>87510</td>\n",
       "      <td>8.7M</td>\n",
       "      <td>5,000,000+</td>\n",
       "      <td>Free</td>\n",
       "      <td>0</td>\n",
       "      <td>Everyone</td>\n",
       "      <td>Art &amp; Design</td>\n",
       "      <td>August 1, 2018</td>\n",
       "      <td>1.2.4</td>\n",
       "      <td>4.0.3 and up</td>\n",
       "    </tr>\n",
       "    <tr>\n",
       "      <th>3</th>\n",
       "      <td>Sketch - Draw &amp; Paint</td>\n",
       "      <td>ART_AND_DESIGN</td>\n",
       "      <td>4.5</td>\n",
       "      <td>215644</td>\n",
       "      <td>25M</td>\n",
       "      <td>50,000,000+</td>\n",
       "      <td>Free</td>\n",
       "      <td>0</td>\n",
       "      <td>Teen</td>\n",
       "      <td>Art &amp; Design</td>\n",
       "      <td>June 8, 2018</td>\n",
       "      <td>Varies with device</td>\n",
       "      <td>4.2 and up</td>\n",
       "    </tr>\n",
       "    <tr>\n",
       "      <th>4</th>\n",
       "      <td>Pixel Draw - Number Art Coloring Book</td>\n",
       "      <td>ART_AND_DESIGN</td>\n",
       "      <td>4.3</td>\n",
       "      <td>967</td>\n",
       "      <td>2.8M</td>\n",
       "      <td>100,000+</td>\n",
       "      <td>Free</td>\n",
       "      <td>0</td>\n",
       "      <td>Everyone</td>\n",
       "      <td>Art &amp; Design</td>\n",
       "      <td>June 20, 2018</td>\n",
       "      <td>1.1</td>\n",
       "      <td>4.4 and up</td>\n",
       "    </tr>\n",
       "  </tbody>\n",
       "</table>\n",
       "</div>"
      ],
      "text/plain": [
       "                                                 App        Category  Rating  \\\n",
       "0     Photo Editor & Candy Camera & Grid & ScrapBook  ART_AND_DESIGN     4.1   \n",
       "1                                Coloring book moana  ART_AND_DESIGN     3.9   \n",
       "2  U Launcher Lite – FREE Live Cool Themes, Hide ...  ART_AND_DESIGN     4.7   \n",
       "3                              Sketch - Draw & Paint  ART_AND_DESIGN     4.5   \n",
       "4              Pixel Draw - Number Art Coloring Book  ART_AND_DESIGN     4.3   \n",
       "\n",
       "  Reviews  Size     Installs  Type Price Content Rating        Genres  \\\n",
       "0     159   19M      10,000+  Free     0       Everyone  Art & Design   \n",
       "1     967   14M     500,000+  Free     0       Everyone  Art & Design   \n",
       "2   87510  8.7M   5,000,000+  Free     0       Everyone  Art & Design   \n",
       "3  215644   25M  50,000,000+  Free     0           Teen  Art & Design   \n",
       "4     967  2.8M     100,000+  Free     0       Everyone  Art & Design   \n",
       "\n",
       "       Last Updated         Current Ver   Android Ver  \n",
       "0   January 7, 2018               1.0.0  4.0.3 and up  \n",
       "1  January 15, 2018               2.0.0  4.0.3 and up  \n",
       "2    August 1, 2018               1.2.4  4.0.3 and up  \n",
       "3      June 8, 2018  Varies with device    4.2 and up  \n",
       "4     June 20, 2018                 1.1    4.4 and up  "
      ]
     },
     "execution_count": 3,
     "metadata": {},
     "output_type": "execute_result"
    }
   ],
   "source": [
    "# Check files imported correctly\n",
    "# googleDF.head()\n",
    "# appleDF.head()"
   ]
  },
  {
   "cell_type": "markdown",
   "metadata": {},
   "source": [
    "# File clean-up with selected columns"
   ]
  },
  {
   "cell_type": "code",
   "execution_count": 3,
   "metadata": {},
   "outputs": [],
   "source": [
    "# Drop columns for apple store\n",
    "cleaned_apple = appleDF[[\"track_name\",\"price\",\"user_rating\",\"rating_count_tot\",\"prime_genre\"]]\n",
    "cleaned_apple_df = cleaned_apple.rename(columns={\"track_name\":\"app_name\",\"price\":\"price\",\"user_rating\":\"user_rating\",\"rating_count_tot\":\"number_of_reviews\",\"prime_genre\":\"genre\"})\n",
    "# cleaned_apple_df.head()"
   ]
  },
  {
   "cell_type": "code",
   "execution_count": 4,
   "metadata": {},
   "outputs": [],
   "source": [
    "# Drop columns for google store\n",
    "cleaned_google = googleDF[[\"App\",\"Category\",\"Rating\",\"Reviews\",\"Price\"]]\n",
    "cleaned_google_df = cleaned_google.rename(columns = {\"App\":\"app_name\",\"Price\":\"price\",\"Rating\":\"user_rating\",\"Reviews\":\"num_of_reviews\",\"Category\":\"genre\"})\n",
    "# cleaned_google_df.head()"
   ]
  },
  {
   "cell_type": "code",
   "execution_count": 5,
   "metadata": {},
   "outputs": [],
   "source": [
    "def clean_data(strs):\n",
    "   listOfStrings=[' ','a','b','c','d','e','f','g','h','i','j','k','l','m','n','o','p','q','r','s','t','u','v','w','x','y','z','A','B','C','D','E','F','G','H','I','J','K','L','M','N','O','P','Q','R','S','T','U','V','W','X','Y','Z',1,2,3,4,5,6,7,8,9,0]\n",
    "   name=\"\"\n",
    "   string_=\"\"\n",
    "   word = strs\n",
    "   #print(word)\n",
    "   flag=bool(re.match('^[a-zA-Z0-9]+$', word))\n",
    "   #print(flag)\n",
    "   if flag :\n",
    "       name = word\n",
    "       #print(f\"printing{name}\")\n",
    "       return name\n",
    "   else :\n",
    "\n",
    "       #print(\"control reached major else block\")\n",
    "\n",
    "       for letter in word :\n",
    "\n",
    "           #print(f\"letter is :{letter}\")\n",
    "           if letter in listOfStrings :\n",
    "               #print(\"control enterd to if list of strings\")\n",
    "               string_=string_+letter\n",
    "               #print(f\"updated name value at this point:{string_}\")\n",
    "           else :\n",
    "               #print(\"control enterd to else list of strings\")\n",
    "               letter=\"\"\n",
    "               string_=string_+letter\n",
    "               #print(f\"updated name value at this point:{string_}\")\n",
    "   name=string_\n",
    "   return name"
   ]
  },
  {
   "cell_type": "code",
   "execution_count": 6,
   "metadata": {},
   "outputs": [],
   "source": [
    "# Remove special characters from DB\n",
    "for index, record in cleaned_google_df.iterrows():\n",
    "    y = record['app_name']\n",
    "    if len(y) > 1:\n",
    "        #print(y)\n",
    "        x = re.sub(r'[~|!|@|#|$|%|^|&|*|(|)|\"|;|<|>|/|?]',r'',y)\n",
    "        cleaned_google_df.loc[index, 'app_name'] = clean_data(x)\n",
    "\n",
    "    else:\n",
    "        cleaned_google_df.loc[index, 'app_name'] = \"NA\""
   ]
  },
  {
   "cell_type": "code",
   "execution_count": 7,
   "metadata": {},
   "outputs": [],
   "source": [
    "# Remove special characters from DB\n",
    "for index, record in cleaned_apple_df.iterrows():\n",
    "    y = record['app_name']\n",
    "    if len(y) > 1:\n",
    "        #print(y)\n",
    "        x = re.sub(r'[~|!|@|#|$|%|^|&|*|(|)|\"|;|<|>|/|?]',r'',y)\n",
    "        cleaned_apple_df.loc[index, 'app_name'] = clean_data(x)\n",
    "\n",
    "    else:\n",
    "        cleaned_apple_df.loc[index, 'app_name'] = \"NA\""
   ]
  },
  {
   "cell_type": "code",
   "execution_count": 8,
   "metadata": {},
   "outputs": [],
   "source": [
    "for index, record in cleaned_google_df.iterrows():\n",
    "       y = record['price']\n",
    "       if len(y) > 1:\n",
    "           #print(y)\n",
    "           x = re.sub(r'[~|!|@|#|$|%|^|&|*|(|)|\"|;|<|>|/|?]',r'',y)\n",
    "           cleaned_google_df.loc[index, 'price'] = x\n",
    "\n",
    "       else :\n",
    "            cleaned_google_df.loc[index, 'price'] = 0"
   ]
  },
  {
   "cell_type": "code",
   "execution_count": 9,
   "metadata": {},
   "outputs": [],
   "source": [
    "for index, record in cleaned_apple_df.iterrows():\n",
    "       y = str(record['price'])\n",
    "       if len(y) > 1:\n",
    "           #print(y)\n",
    "           x = re.sub(r'[~|!|@|#|$|%|^|&|*|(|)|\"|;|<|>|/|?]',r'',y)\n",
    "           cleaned_apple_df.loc[index, 'price'] = x\n",
    "\n",
    "       else :\n",
    "            cleaned_apple_df.loc[index, 'price'] = 0"
   ]
  },
  {
   "cell_type": "code",
   "execution_count": 10,
   "metadata": {},
   "outputs": [
    {
     "name": "stdout",
     "output_type": "stream",
     "text": [
      "Task Completed....\n"
     ]
    }
   ],
   "source": [
    "counter = 0\n",
    "for index, row in cleaned_google_df.iterrows():\n",
    "    try:\n",
    "        location1 = row[\"genre\"].upper()\n",
    "           #print(row[\"Category\"])\n",
    "           #print(f\"counter value is : {counter}\")\n",
    "        if  location1 == \"GAME\" :\n",
    "                   location1 = \"GAMES\"\n",
    "        elif location1 == \"AUTO_AND_VEHICLES\":\n",
    "                   location1 = \"REFERENCE\"\n",
    "        elif location1 == \"FAMILY\" :\n",
    "                   location1 = \"REFERENCE\"\n",
    "        elif location1 == \"PARENTING\" :\n",
    "                location1 = \"REFERENCE\"\n",
    "        elif location1 == \"TOOLS\" :\n",
    "               location1 = \"UTILITIES\"\n",
    "        elif location1 == \"PERSONALIZATION\" :\n",
    "                location1 = \"UTILITIES\"\n",
    "\n",
    "\n",
    "        elif location1 == \"SOCIAL\":\n",
    "                location1 = \"SOCIAL_NETWORKING\"\n",
    "        elif location1 == \"DATING\" :\n",
    "                location1 = \"SOCIAL_NETWORKING\"\n",
    "        elif location1 == \"EVENTS\" :\n",
    "                location1 = \"SOCIAL_NETWORKING\"\n",
    "        elif location1 == \"PHOTOGRAPHY\" :\n",
    "                location1 = \"PHOTOS_AND_VIDEOS\"\n",
    "        elif location1 == \"VIDEO_PLAYERS\" :\n",
    "                location1 = \"PHOTOS_AND_VIDEOS\"\n",
    "        elif location1 == \"MAPS_AND_NAVIGATION\" :\n",
    "                location1 = \"NAVIGATION\"\n",
    "\n",
    "        elif location1 == \"HOUSE_AND_HOME\":\n",
    "                location1 = \"CATALOG\"\n",
    "        elif location1 == \"1.9\" :\n",
    "                location1 = \"CATALOG\"\n",
    "        elif location1 == \"BEAUTY\" :\n",
    "                location1 = \"CATALOG\"\n",
    "        elif location1 == \"ART_AND_DESIGN\" :\n",
    "                location1 = \"CATALOG\"\n",
    "        elif location1 == \"COMICS\" :\n",
    "                location1 = \"CATALOG\"\n",
    "        else :\n",
    "              location1 = location1\n",
    "\n",
    "               #print(f\"value to be inserted : {location1}\")\n",
    "        cleaned_google_df.loc[index, 'genre'] = location1\n",
    "        counter = counter+1\n",
    "\n",
    "        if counter > 100000 :\n",
    "            break\n",
    "\n",
    "\n",
    "    except (KeyError, IndexError):\n",
    "            print(\"Missing field/some exception - so skipping those\")\n",
    "print(\"Task Completed....\")"
   ]
  },
  {
   "cell_type": "code",
   "execution_count": 11,
   "metadata": {},
   "outputs": [
    {
     "name": "stdout",
     "output_type": "stream",
     "text": [
      "Task Completed....\n"
     ]
    }
   ],
   "source": [
    "counter = 0\n",
    "for index, row in cleaned_apple_df.iterrows():\n",
    "\n",
    "       try:\n",
    "\n",
    "           location1 = row[\"genre\"].upper()\n",
    "           #print(row[\"prime_genre\"])\n",
    "           #print(f\"counter value is : {counter}\")\n",
    "\n",
    "           if  location1 == \"HEALTH & FITNESS\" :\n",
    "               location1 = \"HEALTH_AND_FITNESS\"\n",
    "           elif location1 == \"PHOTO & VIDEO\":\n",
    "               location1 = \"PHOTOS_AND_VIDEOS\"\n",
    "           elif location1 == \"FOOD & DRINK\" :\n",
    "               location1 = \"FOOD_AND_DRINK\"\n",
    "           elif location1 == \"BOOK\" :\n",
    "               location1 = \"BOOKS\"\n",
    "           else :\n",
    "               location1 = location1\n",
    "\n",
    "           #print(f\"value to be inserted : {location1}\")\n",
    "           cleaned_apple_df.loc[index, 'genre'] = location1\n",
    "           counter = counter+1\n",
    "\n",
    "           if counter > 100000 :\n",
    "                break\n",
    "\n",
    "\n",
    "       except (KeyError, IndexError):\n",
    "           print(\"Missing field/some exception - so skipping those\")\n",
    "print(\"Task Completed....\")"
   ]
  },
  {
   "cell_type": "markdown",
   "metadata": {},
   "source": [
    "# Connect to MySQL"
   ]
  },
  {
   "cell_type": "code",
   "execution_count": 12,
   "metadata": {},
   "outputs": [],
   "source": [
    "rds_connection_string = f'root:{password}@127.0.0.1:3306/etl_project'\n",
    "engine = create_engine(f'mysql+pymysql://{rds_connection_string}') "
   ]
  },
  {
   "cell_type": "code",
   "execution_count": 13,
   "metadata": {},
   "outputs": [
    {
     "data": {
      "text/plain": [
       "['apple_stats', 'google_stats']"
      ]
     },
     "execution_count": 13,
     "metadata": {},
     "output_type": "execute_result"
    }
   ],
   "source": [
    "# Verify tables\n",
    "engine.table_names()"
   ]
  },
  {
   "cell_type": "markdown",
   "metadata": {},
   "source": [
    "# Use pandas to load dataframe to MySQL"
   ]
  },
  {
   "cell_type": "code",
   "execution_count": 14,
   "metadata": {},
   "outputs": [],
   "source": [
    "# def load():\n",
    "#     try:\n",
    "#         cleaned_google_df.to_sql(name='google_stats', con=engine, if_exists='append', index=False)\n",
    "#         print(\"Data loading completed\")\n",
    "#     except:\n",
    "#         return (\"oops...missed one field\")\n",
    "\n",
    "# print(load())\n",
    "\n",
    "cleaned_google_df.to_sql(name='google_stats', con=engine, if_exists='append', index=False)"
   ]
  },
  {
   "cell_type": "code",
   "execution_count": 15,
   "metadata": {},
   "outputs": [],
   "source": [
    "cleaned_apple_df.to_sql(name='apple_stats', con=engine, if_exists='append', index=False)"
   ]
  },
  {
   "cell_type": "code",
   "execution_count": 16,
   "metadata": {},
   "outputs": [
    {
     "data": {
      "text/html": [
       "<div>\n",
       "<style scoped>\n",
       "    .dataframe tbody tr th:only-of-type {\n",
       "        vertical-align: middle;\n",
       "    }\n",
       "\n",
       "    .dataframe tbody tr th {\n",
       "        vertical-align: top;\n",
       "    }\n",
       "\n",
       "    .dataframe thead th {\n",
       "        text-align: right;\n",
       "    }\n",
       "</style>\n",
       "<table border=\"1\" class=\"dataframe\">\n",
       "  <thead>\n",
       "    <tr style=\"text-align: right;\">\n",
       "      <th></th>\n",
       "      <th>app_name</th>\n",
       "      <th>price</th>\n",
       "      <th>user_rating</th>\n",
       "      <th>number_of_reviews</th>\n",
       "      <th>genre</th>\n",
       "    </tr>\n",
       "  </thead>\n",
       "  <tbody>\n",
       "    <tr>\n",
       "      <th>0</th>\n",
       "      <td>PACMAN Premium</td>\n",
       "      <td>3.99</td>\n",
       "      <td>4.0</td>\n",
       "      <td>21292</td>\n",
       "      <td>GAMES</td>\n",
       "    </tr>\n",
       "    <tr>\n",
       "      <th>1</th>\n",
       "      <td>Evernote  stay organized</td>\n",
       "      <td>0.00</td>\n",
       "      <td>4.0</td>\n",
       "      <td>161065</td>\n",
       "      <td>PRODUCTIVITY</td>\n",
       "    </tr>\n",
       "    <tr>\n",
       "      <th>2</th>\n",
       "      <td>WeatherBug  Local Weather Radar Maps Alerts</td>\n",
       "      <td>0.00</td>\n",
       "      <td>3.5</td>\n",
       "      <td>188583</td>\n",
       "      <td>WEATHER</td>\n",
       "    </tr>\n",
       "    <tr>\n",
       "      <th>3</th>\n",
       "      <td>eBay Best App to Buy Sell Save Online Shopping</td>\n",
       "      <td>0.00</td>\n",
       "      <td>4.0</td>\n",
       "      <td>262241</td>\n",
       "      <td>SHOPPING</td>\n",
       "    </tr>\n",
       "    <tr>\n",
       "      <th>4</th>\n",
       "      <td>Bible</td>\n",
       "      <td>0.00</td>\n",
       "      <td>4.5</td>\n",
       "      <td>985920</td>\n",
       "      <td>REFERENCE</td>\n",
       "    </tr>\n",
       "  </tbody>\n",
       "</table>\n",
       "</div>"
      ],
      "text/plain": [
       "                                         app_name  price  user_rating  \\\n",
       "0                                  PACMAN Premium   3.99          4.0   \n",
       "1                        Evernote  stay organized   0.00          4.0   \n",
       "2     WeatherBug  Local Weather Radar Maps Alerts   0.00          3.5   \n",
       "3  eBay Best App to Buy Sell Save Online Shopping   0.00          4.0   \n",
       "4                                           Bible   0.00          4.5   \n",
       "\n",
       "   number_of_reviews         genre  \n",
       "0              21292         GAMES  \n",
       "1             161065  PRODUCTIVITY  \n",
       "2             188583       WEATHER  \n",
       "3             262241      SHOPPING  \n",
       "4             985920     REFERENCE  "
      ]
     },
     "execution_count": 16,
     "metadata": {},
     "output_type": "execute_result"
    }
   ],
   "source": [
    "# Confirm data was added\n",
    "pd.read_sql_query('select * from apple_stats', con=engine).head()"
   ]
  },
  {
   "cell_type": "code",
   "execution_count": null,
   "metadata": {},
   "outputs": [],
   "source": []
  }
 ],
 "metadata": {
  "kernelspec": {
   "display_name": "Python 3",
   "language": "python",
   "name": "python3"
  },
  "language_info": {
   "codemirror_mode": {
    "name": "ipython",
    "version": 3
   },
   "file_extension": ".py",
   "mimetype": "text/x-python",
   "name": "python",
   "nbconvert_exporter": "python",
   "pygments_lexer": "ipython3",
   "version": "3.7.1"
  }
 },
 "nbformat": 4,
 "nbformat_minor": 2
}
